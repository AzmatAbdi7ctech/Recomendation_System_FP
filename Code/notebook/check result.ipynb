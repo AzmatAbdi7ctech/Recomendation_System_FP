{
 "cells": [
  {
   "cell_type": "code",
   "execution_count": 9,
   "id": "6bbb4369",
   "metadata": {},
   "outputs": [],
   "source": [
    "from pyspark.context import SparkContext\n",
    "from pyspark import SparkConf,sql\n",
    "from pyspark.sql.session import SparkSession\n",
    "import findspark\n",
    "import pymysql\n",
    "import pymysql.cursors\n",
    "import pandas as pd\n",
    "from pyspark.sql.functions import *"
   ]
  },
  {
   "cell_type": "code",
   "execution_count": 2,
   "id": "c80c2f16",
   "metadata": {},
   "outputs": [],
   "source": [
    "product_path='D:/PROJECTS/Recomendation_System_FP/Code/Database/product.csv'\n",
    "cosin_result_path2='D:/PROJECTS/Recomendation_System_FP/cosin_simmilarity2.csv'#'D:/PROJECTS/Recomendation_System_FP/cosin_simmilarity1.csv'\n",
    "cosin_result_path1='D:/PROJECTS/Recomendation_System_FP/cosin_similarity_2024-01-19.csv'"
   ]
  },
  {
   "cell_type": "code",
   "execution_count": 3,
   "id": "d856acc2",
   "metadata": {},
   "outputs": [],
   "source": [
    "spark = SparkSession.builder \\\n",
    "    .appName(\"PySpark MySQL Example\") \\\n",
    "    .config(\"spark.driver.extraClassPath\", \"C:/spark/spark-3.5.0-bin-hadoop3/jars/mysql-connector-java-5.1.46.jar\") \\\n",
    "    .getOrCreate()\n",
    "\n"
   ]
  },
  {
   "cell_type": "code",
   "execution_count": 71,
   "id": "3f45dc2e",
   "metadata": {},
   "outputs": [],
   "source": [
    "Product_df=spark.read.format('csv').option('header',True) \\\n",
    ".load(product_path)\n",
    "\n",
    "cosin_result_path_df1=spark.read.format('csv').option('header',True) \\\n",
    ".load(cosin_result_path1)\n",
    "\n",
    "cosin_result_path_df2=spark.read.format('csv').option('header',True) \\\n",
    ".load(cosin_result_path2)"
   ]
  },
  {
   "cell_type": "code",
   "execution_count": 72,
   "id": "765f5d1c",
   "metadata": {},
   "outputs": [],
   "source": [
    "cosin_result_path_df1=cosin_result_path_df1.select('*',round('cosin_score',3).alias('cosin_score_1')).withColumnRenamed('Product_A','original_product').withColumnRenamed('Product_B','matched_product')"
   ]
  },
  {
   "cell_type": "code",
   "execution_count": 73,
   "id": "a317e305",
   "metadata": {},
   "outputs": [],
   "source": [
    "cosin_result_path_df1=cosin_result_path_df1.toPandas()"
   ]
  },
  {
   "cell_type": "code",
   "execution_count": 74,
   "id": "4b8fcf90",
   "metadata": {},
   "outputs": [],
   "source": [
    "cosin_result_path_df1=cosin_result_path_df1.drop(columns=['cosin_score','_c0'],axis=1).rename(columns={'cosin_score_1':'cosin_score'})"
   ]
  },
  {
   "cell_type": "code",
   "execution_count": 76,
   "id": "0fa1bfe3",
   "metadata": {},
   "outputs": [],
   "source": [
    "cosin_result_path_df1.to_csv('validated_cosin_simmilarity.csv')"
   ]
  },
  {
   "cell_type": "code",
   "execution_count": 5,
   "id": "68307a1a",
   "metadata": {},
   "outputs": [
    {
     "name": "stdout",
     "output_type": "stream",
     "text": [
      "3842,2010,262,3155,579,5157,3611,2874,1493,324,946,5004,3277\n"
     ]
    }
   ],
   "source": [
    "product_title='WILDWOOD RUFFLED TOP'\n",
    "selected_product_id=Product_df.filter(Product_df['product_title']==product_title).select('product_id').collect()[0][0]\n",
    "recomendation_df_product=cosin_result_path_df1[cosin_result_path_df1['Product_A']==selected_product_id]\n",
    "link=[]\n",
    "for row in recomendation_df_product.collect():\n",
    "    # if float(row['cosin_score'])>=.80:\n",
    "        id=row['Product_B']\n",
    "        # link.append(int(id))\n",
    "        # product_thumbnail=Product_df.filter(Product_df.product_id==id).select('product_thumbnail').collect()\n",
    "        try:\n",
    "            # print('https://fashionpass.s3.us-west-1.amazonaws.com/products/'+(product_thumbnail[0][0]))\n",
    "             link.append(id)\n",
    "        except:\n",
    "            print('valid string')    \n",
    "print(','.join(link))"
   ]
  },
  {
   "cell_type": "code",
   "execution_count": 6,
   "id": "3d842d63",
   "metadata": {},
   "outputs": [
    {
     "name": "stdout",
     "output_type": "stream",
     "text": [
      "3842,2548,2301,3942,2010,8595,2707,262,2146,3155,5157,7773,529,3611,2874,1493,324,226,946,5004,7507,3979,3277,699,6068,2854\n"
     ]
    }
   ],
   "source": [
    "product_title='WILDWOOD RUFFLED TOP'\n",
    "selected_product_id=Product_df.filter(Product_df['product_title']==product_title).select('product_id').collect()[0][0]\n",
    "recomendation_df_product=cosin_result_path_df2[cosin_result_path_df2['Product_A']==selected_product_id]\n",
    "link=[]\n",
    "for row in recomendation_df_product.collect():\n",
    "    # if float(row['cosin_score'])>=.80:\n",
    "        id=row['Product_B']\n",
    "        # link.append(int(id))\n",
    "        # product_thumbnail=Product_df.filter(Product_df.product_id==id).select('product_thumbnail').collect()\n",
    "        try:\n",
    "            # print('https://fashionpass.s3.us-west-1.amazonaws.com/products/'+(product_thumbnail[0][0]))\n",
    "             link.append(id)\n",
    "        except:\n",
    "            print('valid string')    \n",
    "print(','.join(link))"
   ]
  }
 ],
 "metadata": {
  "kernelspec": {
   "display_name": "RS",
   "language": "python",
   "name": "python3"
  },
  "language_info": {
   "codemirror_mode": {
    "name": "ipython",
    "version": 3
   },
   "file_extension": ".py",
   "mimetype": "text/x-python",
   "name": "python",
   "nbconvert_exporter": "python",
   "pygments_lexer": "ipython3",
   "version": "3.11.5"
  }
 },
 "nbformat": 4,
 "nbformat_minor": 5
}
