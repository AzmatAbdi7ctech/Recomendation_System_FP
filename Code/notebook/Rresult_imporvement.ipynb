{
 "cells": [
  {
   "cell_type": "code",
   "execution_count": 1,
   "id": "6bbb4369",
   "metadata": {},
   "outputs": [],
   "source": [
    "from pyspark.context import SparkContext\n",
    "from pyspark import SparkConf,sql\n",
    "from pyspark.sql.session import SparkSession\n",
    "import findspark\n",
    "import pymysql\n",
    "import pymysql.cursors\n",
    "import pandas as pd"
   ]
  },
  {
   "cell_type": "code",
   "execution_count": 2,
   "id": "b18606a0",
   "metadata": {},
   "outputs": [
    {
     "data": {
      "text/plain": [
       "'C:\\\\spark\\\\spark-3.5.0-bin-hadoop3'"
      ]
     },
     "execution_count": 2,
     "metadata": {},
     "output_type": "execute_result"
    }
   ],
   "source": [
    "findspark.init()\n",
    "findspark.find()"
   ]
  },
  {
   "cell_type": "code",
   "execution_count": 3,
   "id": "c80c2f16",
   "metadata": {},
   "outputs": [],
   "source": [
    "product_path='D:/PROJECTS/FASHIONPASS/Database/product.csv'\n",
    "tagcloud_path='D:/PROJECTS/FASHIONPASS/Database/tag_cloud.csv'\n",
    "collection_category_tag_path='D:/PROJECTS/FASHIONPASS/Database/collection_category_tag.csv'\n",
    "product_tag_path='D:/PROJECTS/FASHIONPASS/Database/product_tag.csv'\n",
    "features_path='D:/PROJECTS/FASHIONPASS/Database/spars_dense_features.csv'\n",
    "collection_category_path='D:/PROJECTS/FASHIONPASS/Database/collection_category.csv'"
   ]
  },
  {
   "cell_type": "code",
   "execution_count": 4,
   "id": "d856acc2",
   "metadata": {},
   "outputs": [],
   "source": [
    "spark = SparkSession.builder \\\n",
    "    .appName(\"PySpark MySQL Example\") \\\n",
    "    .config(\"spark.driver.extraClassPath\", \"C:/spark/spark-3.5.0-bin-hadoop3/jars/mysql-connector-java-5.1.46.jar\") \\\n",
    "    .getOrCreate()\n",
    "\n"
   ]
  },
  {
   "cell_type": "code",
   "execution_count": 8,
   "id": "2d8b12a0",
   "metadata": {},
   "outputs": [],
   "source": [
    "table='collection_category'"
   ]
  },
  {
   "cell_type": "code",
   "execution_count": 6,
   "id": "a1c7e9d2",
   "metadata": {},
   "outputs": [],
   "source": [
    "def Dataframe_Load(table_name):\n",
    "    mysqlldf=spark.read \\\n",
    "    .format(\"jdbc\") \\\n",
    "    .option(\"driver\",\"com.mysql.jdbc.Driver\") \\\n",
    "    .option(\"url\",'jdbc:mysql://public.live-db.fashionpass.com:3306/banjo_live') \\\n",
    "    .option(\"dbtable\",table) \\\n",
    "    .option(\"user\",'sa') \\\n",
    "    .option(\"fetchSize\", 1000000)  \\\n",
    "    .option('password','Forests55_') \\\n",
    "    .load()\n",
    "    return mysqlldf"
   ]
  },
  {
   "cell_type": "code",
   "execution_count": 9,
   "id": "f738d8fe",
   "metadata": {},
   "outputs": [],
   "source": [
    "mysqlldf=Dataframe_Load('collection_category')"
   ]
  },
  {
   "cell_type": "markdown",
   "id": "7f63c05b",
   "metadata": {},
   "source": [
    "All_Collection_Layer"
   ]
  },
  {
   "cell_type": "code",
   "execution_count": 10,
   "id": "b931e97f",
   "metadata": {},
   "outputs": [],
   "source": [
    "Layer_0=mysqlldf.filter(mysqlldf['parent_id']==2)\n",
    "Layer_1=mysqlldf.filter(mysqlldf['id'].isin([68,69]))\n",
    "Layer_2_Clothing=mysqlldf.filter(mysqlldf['parent_id'].isin([68]))\n",
    "Layer_2_Accessories=mysqlldf.filter(mysqlldf['parent_id'].isin([69]))\n",
    "Layer_3_Clothing=mysqlldf.filter(mysqlldf['id'].isin([70,71,72,73,74,75,76,77,78,79,80,81,82,83,785,904,1050]))\n",
    "Layer_3_Accessories=mysqlldf.filter(mysqlldf['id'].isin([249,250,251,252,253,254,255,256,1021,1122]))\n",
    "Layer_4_Occasion=mysqlldf.filter(mysqlldf['id'].isin([19,21,22,37]))\n",
    "Layer_5_Material_Color_Pattern=mysqlldf.filter(mysqlldf['id'].isin([17,18,62]))\n",
    "Layer_6_Season=mysqlldf.filter(mysqlldf['id'].isin([23]))\n",
    "Layer_7_Sleeve_Style=mysqlldf.filter(mysqlldf['id'].isin([27]))"
   ]
  },
  {
   "cell_type": "code",
   "execution_count": 5,
   "id": "3f45dc2e",
   "metadata": {},
   "outputs": [],
   "source": [
    "Product_df=spark.read.format('csv').option('header',True) \\\n",
    ".load(product_path)\n",
    "\n",
    "Tagcloud_df=spark.read.format('csv').option('header',True) \\\n",
    ".load(tagcloud_path)\n",
    "\n",
    "\n",
    "Collection_Category_tag_df=spark.read.format('csv').option('header',True) \\\n",
    ".load(collection_category_tag_path)\n",
    "\n",
    "Product_tag_df=spark.read.format('csv').option('header',True) \\\n",
    ".load(product_tag_path)\n",
    "\n",
    "\n",
    "features_df=spark.read.format('csv').option('header',True) \\\n",
    ".load(features_path)\n",
    "\n",
    "\n",
    "Collection_Category_df=spark.read.format('csv').option('header',True)\\\n",
    ".load(collection_category_path)"
   ]
  },
  {
   "cell_type": "code",
   "execution_count": 6,
   "id": "9676593f",
   "metadata": {},
   "outputs": [],
   "source": [
    "def duplicate_col(data):\n",
    "  df_cols = data.columns\n",
    "  duplicate_col_index = [idx for idx,\n",
    "  val in enumerate(df_cols) if val in df_cols[:idx]]\n",
    "  for i in duplicate_col_index:\n",
    "    df_cols[i] = df_cols[i] + '_duplicate_'+ str(i)\n",
    "  data = data.toDF(*df_cols)\n",
    "  return data"
   ]
  },
  {
   "cell_type": "code",
   "execution_count": 7,
   "id": "ef0037d4",
   "metadata": {},
   "outputs": [
    {
     "name": "stdout",
     "output_type": "stream",
     "text": [
      "+---+---+-----------+------+----------+----------+-------------------+-------------------+\n",
      "|_c0| id|category_id|tag_id|created_by|updated_by|         created_at|         updated_at|\n",
      "+---+---+-----------+------+----------+----------+-------------------+-------------------+\n",
      "|  0|  1|         12|     2|         2|        28|2020-07-02 13:51:13|2020-08-06 10:33:17|\n",
      "|  1|  2|         12|     3|         2|        28|2020-07-02 13:51:19|2020-08-06 10:25:52|\n",
      "|  2|  3|         12|     4|         2|         6|2020-07-02 13:51:53|2020-07-13 06:46:03|\n",
      "|  3|  4|         12|     5|         2|         6|2020-07-02 13:52:01|2020-07-13 06:48:32|\n",
      "|  4|  5|         19|     6|         2|         2|2020-07-02 17:05:44|2020-07-02 17:08:18|\n",
      "|  5|  6|         19|     7|         2|         6|2020-07-02 17:09:45|2023-12-08 08:43:47|\n",
      "|  6|  7|         19|     8|         2|       623|2020-07-02 17:10:11|2023-04-19 10:48:42|\n",
      "|  7|  8|         33|    10|         2|         2|2020-07-05 20:38:31|2020-07-05 20:38:49|\n",
      "|  8|  9|         33|    11|         2|         2|2020-07-05 20:39:05|2020-07-05 20:39:05|\n",
      "|  9| 10|         33|    12|         2|         2|2020-07-05 20:39:24|2020-07-24 07:18:08|\n",
      "| 10| 11|         36|    13|         2|         6|2020-07-05 21:02:46|2020-07-13 08:35:48|\n",
      "| 11| 13|         35|    15|         2|         6|2020-07-05 21:35:13|2020-07-13 08:35:26|\n",
      "| 12| 15|         37|    17|         2|        28|2020-07-06 17:04:06|2020-08-06 13:39:57|\n",
      "| 13| 16|         37|    18|         2|        28|2020-07-06 17:05:18|2020-08-06 13:34:17|\n",
      "| 14| 21|         27|    23|         2|         2|2020-07-08 14:18:05|2020-07-08 14:18:05|\n",
      "| 15| 22|         27|    24|         2|         2|2020-07-08 14:18:17|2020-07-08 14:18:17|\n",
      "| 16| 23|         27|    25|         2|         2|2020-07-08 14:18:31|2020-07-08 14:18:31|\n",
      "| 17| 24|         27|    26|         2|         2|2020-07-08 14:18:43|2020-07-08 14:18:43|\n",
      "| 18| 25|         27|    27|         2|         2|2020-07-08 14:18:58|2020-07-08 14:18:58|\n",
      "| 19| 26|         27|    28|         2|         2|2020-07-08 14:19:17|2020-07-08 14:19:17|\n",
      "+---+---+-----------+------+----------+----------+-------------------+-------------------+\n",
      "only showing top 20 rows\n",
      "\n"
     ]
    }
   ],
   "source": [
    "Collection_Category_tag_df.show()"
   ]
  },
  {
   "cell_type": "code",
   "execution_count": 30,
   "id": "196726e3",
   "metadata": {},
   "outputs": [],
   "source": [
    "# clothing_collection = [70, 71, 72, 73, 74, 75, 76, 77, 78, 79, 80, 81, 82, 83, 785, 904, 1050, 84, 85, 86, 87, 89, 90, 91, 92, 93, 94, 95, 96, 97, 98, 99, 100, 101, 102, 103, 104, 105, 106, 107, 108, 109, 110, 111, 112, 113, 114, 115, 116, 117, 118, 119, 120, 121, 122, 124, 125, 126, 127, 128, 129, 130, 131, 132, 133, 134, 135, 136, 137, 139, 141, 142, 690, 143, 144, 145, 146, 147, 148, 149, 150, 151, 153, 154, 155, 156, 157, 159, 160, 161, 162, 163, 164, 165, 167, 168, 169, 170, 171, 172, 173, 174, 175, 176, 177, 178, 179, 180, 181, 182, 183, 184, 185, 186, 188, 189, 190, 191, 192, 194, 195, 196, 197, 198, 199, 200, 201, 202, 203, 204, 205, 206, 207, 208, 209, 210, 211, 212, 213, 214, 215, 217, 218, 219, 220, 221, 222, 223, 224, 225, 226, 229, 234, 235, 236, 237, 238, 240, 241, 242, 243, 244, 245, 246, 247, 248, 1051, 1052, 1053]\n",
    "#added some collection\n",
    "clothing_collection = [68,61,60,59,58,57,56,55,54,53,52,50,49,48,47,46,45,42,40,39,70, 71, 72, 73, 74, 75, 76, 77, 78, 79, 80, 81, 82, 83, 785, 904, 1050, 84, 85, 86, 87, 89, 90, 91, 92, 93, 94, 95, 96, 97, 98, 99, 100, 101, 102, 103, 104, 105, 106, 107, 108, 109, 110, 111, 112, 113, 114, 115, 116, 117, 118, 119, 120, 121, 122, 124, 125, 126, 127, 128, 129, 130, 131, 132, 133, 134, 135, 136, 137, 139, 141, 142, 690, 143, 144, 145, 146, 147, 148, 149, 150, 151, 153, 154, 155, 156, 157, 159, 160, 161, 162, 163, 164, 165, 167, 168, 169, 170, 171, 172, 173, 174, 175, 176, 177, 178, 179, 180, 181, 182, 183, 184, 185, 186, 188, 189, 190, 191, 192, 194, 195, 196, 197, 198, 199, 200, 201, 202, 203, 204, 205, 206, 207, 208, 209, 210, 211, 212, 213, 214, 215, 217, 218, 219, 220, 221, 222, 223, 224, 225, 226, 229, 234, 235, 236, 237, 238, 240, 241, 242, 243, 244, 245, 246, 247, 248, 1051, 1052, 1053]\n",
    "\n",
    "clothing_tag=[39,40,42,45,49,52,53,54,55,56,57,58,59,60,61,1049,1128,36,83,84,99,104,105,214,218,219,220,221,222,224,226,228,246,265,320,340,238,240,202,86,245,102,251,252,253,254,256,257,266,223,267,319,230,350,382,407,620,\n",
    "              56,133,81,119,82,268,255,269,112,157,348,349,355,374,375,383,384,389,397,398,404,405,409,415,417,421,622,623,624,55,625,626,627,628,629,630,631,\n",
    "659,216,307,308,309,694,24,25,26,27,28,321,352,\n",
    "80,\n",
    "236,\n",
    "326,\n",
    "393,\n",
    "390,\n",
    "662,\n",
    "663,\n",
    "381,\n",
    "664,\n",
    "27,\n",
    "28,\n",
    "665,\n",
    "666,\n",
    "227,\n",
    "379,\n",
    "419,\n",
    "24,\n",
    "57,\n",
    "58,\n",
    "59,\n",
    "62,\n",
    "63,\n",
    "65,\n",
    "67,\n",
    "68,\n",
    "78,\n",
    "20,\n",
    "21,\n",
    "22,\n",
    "248,\n",
    "244,\n",
    "670,\n",
    "671,\n",
    "672,\n",
    "673,\n",
    "106,\n",
    "108,\n",
    "109,\n",
    "115,\n",
    "122,\n",
    "124,\n",
    "125,\n",
    "126,\n",
    "129,\n",
    "54,\n",
    "134,\n",
    "137,\n",
    "138,\n",
    "140,\n",
    "153,\n",
    "156,\n",
    "154,\n",
    "377,\n",
    "231,\n",
    "423,\n",
    "159,\n",
    "161,\n",
    "163,\n",
    "164,\n",
    "165,\n",
    "153,\n",
    "166,\n",
    "112,\n",
    "167,\n",
    "168,\n",
    "170,\n",
    "173,\n",
    "179,\n",
    "180,\n",
    "138,\n",
    "392,\n",
    "400,\n",
    "402,\n",
    "639,\n",
    "183,\n",
    "184,\n",
    "170,\n",
    "112,\n",
    "161,\n",
    "669,\n",
    "194,\n",
    "163,\n",
    "195,\n",
    "161,\n",
    "153,\n",
    "196,\n",
    "47,\n",
    "48,\n",
    "197,\n",
    "198,\n",
    "164,\n",
    "200,\n",
    "112,\n",
    "392,\n",
    "392,\n",
    "204,\n",
    "668,\n",
    "171,\n",
    "163,\n",
    "195,\n",
    "210,\n",
    "52,\n",
    "180,\n",
    "392,\n",
    "213,\n",
    "215,\n",
    "217,\n",
    "153,\n",
    "115,\n",
    "132,\n",
    "229,\n",
    "67,\n",
    "231,\n",
    "376,\n",
    "54,\n",
    "49,\n",
    "51,\n",
    "237,\n",
    "227,\n",
    "242,\n",
    "53,\n",
    "248,\n",
    "153,\n",
    "76,\n",
    "250,\n",
    "61,\n",
    "69,\n",
    "66,\n",
    "244,\n",
    "231,\n",
    "103,\n",
    "120,\n",
    "140,\n",
    "54,\n",
    "227,\n",
    "38,\n",
    "40,\n",
    "43,\n",
    "46,\n",
    "47,\n",
    "48,\n",
    "49,\n",
    "50,\n",
    "51,\n",
    "52,\n",
    "39,\n",
    "377,\n",
    "191,\n",
    "587,\n",
    "7,\n",
    "8,\n",
    "270,\n",
    "272,\n",
    "273,\n",
    "76,\n",
    "73,\n",
    "75,\n",
    "498,\n",
    "607\n",
    "]"
   ]
  },
  {
   "cell_type": "code",
   "execution_count": 10,
   "id": "84079209",
   "metadata": {},
   "outputs": [],
   "source": [
    "clothing_collection_df=Collection_Category_df.filter(Collection_Category_df['id'].isin(clothing_collection))"
   ]
  },
  {
   "cell_type": "code",
   "execution_count": 11,
   "id": "46f468bc",
   "metadata": {},
   "outputs": [],
   "source": [
    "collection_category_tag_cloud=clothing_collection_df.join(Collection_Category_tag_df,clothing_collection_df.id==Collection_Category_tag_df.category_id,'left')\n",
    "collection_category_tag_cloud=collection_category_tag_cloud.join(Tagcloud_df,collection_category_tag_cloud.tag_id==Tagcloud_df.id,'left')"
   ]
  },
  {
   "cell_type": "code",
   "execution_count": 12,
   "id": "fdfa45dd",
   "metadata": {},
   "outputs": [
    {
     "name": "stdout",
     "output_type": "stream",
     "text": [
      "+---+--------------------+---------+----------+-------------+--------+-----------+------+-----------------+------+------+------------+------------+----------+----------+----------+-------------------+-------------------+---+---------------+-----------+------+-----------------------+-----------------------+-----------------------+-----------------------+----------------+---------------+--------------------+-----------------------+-----------------------+-----------------------+-----------------------+\n",
      "| id|                name|parent_id|sort_order|category_link|url_link|description|status|filtersets_status|seo_id|handle|minimum_tags|maximum_tags|heading_id|created_by|updated_by|         created_at|         updated_at|_c0|id_duplicate_19|category_id|tag_id|created_by_duplicate_22|updated_by_duplicate_23|created_at_duplicate_24|updated_at_duplicate_25|_c0_duplicate_26|id_duplicate_27|            tag_name|updated_at_duplicate_29|updated_by_duplicate_30|created_at_duplicate_31|created_by_duplicate_32|\n",
      "+---+--------------------+---------+----------+-------------+--------+-----------+------+-----------------+------+------+------------+------------+----------+----------+----------+-------------------+-------------------+---+---------------+-----------+------+-----------------------+-----------------------+-----------------------+-----------------------+----------------+---------------+--------------------+-----------------------+-----------------------+-----------------------+-----------------------+\n",
      "| 39|Activewear & Loun...|       13|         0|         NULL|    NULL|       NULL|     1|                0|     0|  NULL|           1|        9999|         0|         6|         2|2020-07-13 04:41:01|2021-06-30 06:30:21|698|            755|         39|   377|                      2|                      6|    2020-07-28 12:14:11|    2023-08-22 12:24:05|             298|            377|  activewear-jackets|    2023-08-22 12:24:05|                    6.0|    2020-07-28 12:14:11|                      2|\n",
      "| 39|Activewear & Loun...|       13|         0|         NULL|    NULL|       NULL|     1|                0|     0|  NULL|           1|        9999|         0|         6|         2|2020-07-13 04:41:01|2021-06-30 06:30:21|430|            462|         39|    39|                      2|                      2|    2020-07-18 14:27:07|    2020-08-05 09:26:28|              21|             39|          activewear|    2023-08-22 12:36:21|                    6.0|    2020-07-13 04:45:36|                      0|\n",
      "| 39|Activewear & Loun...|       13|         0|         NULL|    NULL|       NULL|     1|                0|     0|  NULL|           1|        9999|         0|         6|         2|2020-07-13 04:41:01|2021-06-30 06:30:21| 38|             48|         39|    52|                      6|                      6|    2020-07-13 04:55:05|    2023-08-22 12:23:50|              31|             52|        biker-shorts|    2023-08-22 12:23:50|                    6.0|    2020-07-13 04:55:04|                      0|\n",
      "| 39|Activewear & Loun...|       13|         0|         NULL|    NULL|       NULL|     1|                0|     0|  NULL|           1|        9999|         0|         6|         2|2020-07-13 04:41:01|2021-06-30 06:30:21| 37|             47|         39|    51|                      6|                      6|    2020-07-13 04:54:35|    2023-08-22 12:23:56|              30|             51|             hoodies|    2023-08-22 12:23:56|                    6.0|    2020-07-13 04:54:35|                      0|\n",
      "| 39|Activewear & Loun...|       13|         0|         NULL|    NULL|       NULL|     1|                0|     0|  NULL|           1|        9999|         0|         6|         2|2020-07-13 04:41:01|2021-06-30 06:30:21| 36|             46|         39|    50|                      6|                      6|    2020-07-13 04:54:08|    2023-08-22 12:23:27|              29|             50|             bottoms|    2023-08-22 12:32:04|                    6.0|    2020-07-13 04:54:08|                      0|\n",
      "| 39|Activewear & Loun...|       13|         0|         NULL|    NULL|       NULL|     1|                0|     0|  NULL|           1|        9999|         0|         6|         2|2020-07-13 04:41:01|2021-06-30 06:30:21| 35|             45|         39|    49|                      6|                      6|    2020-07-13 04:53:43|    2023-08-22 12:23:34|              28|             49|         sweatshirts|    2023-08-22 12:23:35|                    6.0|    2020-07-13 04:53:42|                      0|\n",
      "| 39|Activewear & Loun...|       13|         0|         NULL|    NULL|       NULL|     1|                0|     0|  NULL|           1|        9999|         0|         6|         2|2020-07-13 04:41:01|2021-06-30 06:30:21| 34|             44|         39|    48|                      6|                      6|    2020-07-13 04:53:17|    2023-08-22 12:23:42|              27|             48|          sweatpants|    2023-08-22 12:23:43|                    6.0|    2020-07-13 04:53:17|                      0|\n",
      "| 39|Activewear & Loun...|       13|         0|         NULL|    NULL|       NULL|     1|                0|     0|  NULL|           1|        9999|         0|         6|         2|2020-07-13 04:41:01|2021-06-30 06:30:21| 33|             43|         39|    47|                      6|                      6|    2020-07-13 04:52:29|    2023-08-22 12:24:11|              26|             47|            leggings|    2023-08-22 12:24:11|                    6.0|    2020-07-13 04:52:28|                      0|\n",
      "| 39|Activewear & Loun...|       13|         0|         NULL|    NULL|       NULL|     1|                0|     0|  NULL|           1|        9999|         0|         6|         2|2020-07-13 04:41:01|2021-06-30 06:30:21| 32|             42|         39|    46|                      6|                     28|    2020-07-13 04:52:06|    2020-08-05 11:17:53|              25|             46|          yoga-pants|    2020-07-13 04:52:05|                   NULL|    2020-07-13 04:52:05|                      0|\n",
      "| 39|Activewear & Loun...|       13|         0|         NULL|    NULL|       NULL|     1|                0|     0|  NULL|           1|        9999|         0|         6|         2|2020-07-13 04:41:01|2021-06-30 06:30:21| 31|             41|         39|    45|                      6|                      6|    2020-07-13 04:51:36|    2020-07-13 04:51:49|            NULL|           NULL|                NULL|                   NULL|                   NULL|                   NULL|                   NULL|\n",
      "| 39|Activewear & Loun...|       13|         0|         NULL|    NULL|       NULL|     1|                0|     0|  NULL|           1|        9999|         0|         6|         2|2020-07-13 04:41:01|2021-06-30 06:30:21| 30|             39|         39|    43|                      6|                     28|    2020-07-13 04:48:52|    2020-08-05 11:18:34|              23|             43|           sleepwear|    2020-07-23 07:36:39|                    6.0|    2020-07-13 04:48:52|                      0|\n",
      "| 39|Activewear & Loun...|       13|         0|         NULL|    NULL|       NULL|     1|                0|     0|  NULL|           1|        9999|         0|         6|         2|2020-07-13 04:41:01|2021-06-30 06:30:21| 29|             38|         39|    42|                      6|                      6|    2020-07-13 04:48:12|    2020-07-13 04:48:35|            NULL|           NULL|                NULL|                   NULL|                   NULL|                   NULL|                   NULL|\n",
      "| 39|Activewear & Loun...|       13|         0|         NULL|    NULL|       NULL|     1|                0|     0|  NULL|           1|        9999|         0|         6|         2|2020-07-13 04:41:01|2021-06-30 06:30:21| 28|             37|         39|    41|                      6|                      6|    2020-07-13 04:47:22|    2020-07-13 04:47:50|            NULL|           NULL|                NULL|                   NULL|                   NULL|                   NULL|                   NULL|\n",
      "| 39|Activewear & Loun...|       13|         0|         NULL|    NULL|       NULL|     1|                0|     0|  NULL|           1|        9999|         0|         6|         2|2020-07-13 04:41:01|2021-06-30 06:30:21| 27|             36|         39|    40|                      6|                     28|    2020-07-13 04:46:39|    2020-08-05 09:58:25|              22|             40|          loungewear|    2020-07-23 07:31:04|                    6.0|    2020-07-13 04:46:38|                      0|\n",
      "| 39|Activewear & Loun...|       13|         0|         NULL|    NULL|       NULL|     1|                0|     0|  NULL|           1|        9999|         0|         6|         2|2020-07-13 04:41:01|2021-06-30 06:30:21| 26|             34|         39|    38|                      6|                      6|    2020-07-13 04:41:33|    2023-12-12 07:07:35|              20|             38|activewear-and-lo...|    2023-12-12 07:07:35|                    6.0|    2020-07-13 04:41:32|                      0|\n",
      "| 40|           Bodysuits|       13|         1|         NULL|    NULL|       NULL|     1|                0|     0|  NULL|           0|        9999|         0|         6|         2|2020-07-13 05:02:17|2021-06-30 06:30:21|754|            816|         40|   419|                     28|                     28|    2020-08-31 12:21:12|    2020-08-31 12:21:17|             322|            419|              v-neck|    2020-08-31 12:21:12|                   28.0|    2020-08-31 12:21:12|                     28|\n",
      "| 40|           Bodysuits|       13|         1|         NULL|    NULL|       NULL|     1|                0|     0|  NULL|           0|        9999|         0|         6|         2|2020-07-13 05:02:17|2021-06-30 06:30:21|427|            456|         40|   321|                      2|                      6|    2020-07-15 22:10:10|    2023-08-22 12:25:14|             255|            321|          sleeveless|    2023-08-22 12:28:06|                    6.0|    2020-07-14 16:00:50|                      0|\n",
      "| 40|           Bodysuits|       13|         1|         NULL|    NULL|       NULL|     1|                0|     0|  NULL|           0|        9999|         0|         6|         2|2020-07-13 05:02:17|2021-06-30 06:30:21| 66|             79|         40|    76|                      6|                      6|    2020-07-13 05:22:03|    2023-11-24 08:17:06|              52|             76|                work|    2023-12-13 05:45:10|                    6.0|    2020-07-13 05:22:03|                      0|\n",
      "| 40|           Bodysuits|       13|         1|         NULL|    NULL|       NULL|     1|                0|     0|  NULL|           0|        9999|         0|         6|         2|2020-07-13 05:02:17|2021-06-30 06:30:21| 46|             56|         40|    56|                      6|                      6|    2020-07-13 05:07:39|    2020-07-13 05:07:47|              35|             56|             lace-up|    2020-07-13 05:07:38|                   NULL|    2020-07-13 05:07:38|                      0|\n",
      "| 40|           Bodysuits|       13|         1|         NULL|    NULL|       NULL|     1|                0|     0|  NULL|           0|        9999|         0|         6|         2|2020-07-13 05:02:17|2021-06-30 06:30:21| 45|             55|         40|    55|                      6|                     28|    2020-07-13 05:07:15|    2020-08-05 11:22:16|              34|             55|             cut-out|    2023-11-15 12:39:03|                  632.0|    2020-07-13 05:07:15|                      0|\n",
      "+---+--------------------+---------+----------+-------------+--------+-----------+------+-----------------+------+------+------------+------------+----------+----------+----------+-------------------+-------------------+---+---------------+-----------+------+-----------------------+-----------------------+-----------------------+-----------------------+----------------+---------------+--------------------+-----------------------+-----------------------+-----------------------+-----------------------+\n",
      "only showing top 20 rows\n",
      "\n"
     ]
    }
   ],
   "source": [
    "collection_category_tag_cloud=duplicate_col(collection_category_tag_cloud)\n",
    "collection_category_tag_cloud.show()"
   ]
  },
  {
   "cell_type": "code",
   "execution_count": 13,
   "id": "3a53a223",
   "metadata": {},
   "outputs": [],
   "source": [
    "collection_category_tag_cloud=collection_category_tag_cloud.select(['id','name','tag_name','tag_id'])"
   ]
  },
  {
   "cell_type": "code",
   "execution_count": 14,
   "id": "71eb3ec0",
   "metadata": {},
   "outputs": [],
   "source": [
    "clothing_collection_category_tag_cloud=collection_category_tag_cloud.toPandas()"
   ]
  },
  {
   "cell_type": "code",
   "execution_count": 15,
   "id": "482cddd1",
   "metadata": {},
   "outputs": [],
   "source": [
    "clothing_collection_category_tag_cloud.to_csv('D:/PROJECTS/FASHIONPASS/Database/cloting_collection_category_10_1_2023.csv')"
   ]
  },
  {
   "cell_type": "code",
   "execution_count": 16,
   "id": "64c15d01",
   "metadata": {},
   "outputs": [],
   "source": [
    "clothing_tag=[ i[0] for i in  collection_category_tag_cloud.select('tag_id').collect()]"
   ]
  },
  {
   "cell_type": "code",
   "execution_count": 25,
   "id": "5fb55ed2",
   "metadata": {},
   "outputs": [],
   "source": [
    "product_product_tag_df=Product_tag_df.join(Tagcloud_df,Product_tag_df.tag_id==Tagcloud_df.id,'left')"
   ]
  },
  {
   "cell_type": "code",
   "execution_count": 26,
   "id": "8172d87c",
   "metadata": {},
   "outputs": [],
   "source": [
    "product_product_tag_cloting_df=product_product_tag_df.filter(product_product_tag_df['id'].isin(clothing_tag))"
   ]
  },
  {
   "cell_type": "code",
   "execution_count": 27,
   "id": "ebeee498",
   "metadata": {},
   "outputs": [
    {
     "name": "stdout",
     "output_type": "stream",
     "text": [
      "+---+--------------------+--------------------+------+\n",
      "| id|                name|            tag_name|tag_id|\n",
      "+---+--------------------+--------------------+------+\n",
      "| 39|Activewear & Loun...|  activewear-jackets|   377|\n",
      "| 39|Activewear & Loun...|          activewear|    39|\n",
      "| 39|Activewear & Loun...|        biker-shorts|    52|\n",
      "| 39|Activewear & Loun...|             hoodies|    51|\n",
      "| 39|Activewear & Loun...|             bottoms|    50|\n",
      "| 39|Activewear & Loun...|         sweatshirts|    49|\n",
      "| 39|Activewear & Loun...|          sweatpants|    48|\n",
      "| 39|Activewear & Loun...|            leggings|    47|\n",
      "| 39|Activewear & Loun...|          yoga-pants|    46|\n",
      "| 39|Activewear & Loun...|                NULL|    45|\n",
      "| 39|Activewear & Loun...|           sleepwear|    43|\n",
      "| 39|Activewear & Loun...|                NULL|    42|\n",
      "| 39|Activewear & Loun...|                NULL|    41|\n",
      "| 39|Activewear & Loun...|          loungewear|    40|\n",
      "| 39|Activewear & Loun...|activewear-and-lo...|    38|\n",
      "| 40|           Bodysuits|              v-neck|   419|\n",
      "| 40|           Bodysuits|          sleeveless|   321|\n",
      "| 40|           Bodysuits|                work|    76|\n",
      "| 40|           Bodysuits|             lace-up|    56|\n",
      "| 40|           Bodysuits|             cut-out|    55|\n",
      "+---+--------------------+--------------------+------+\n",
      "only showing top 20 rows\n",
      "\n"
     ]
    }
   ],
   "source": [
    "collection_category_tag_cloud.show()"
   ]
  },
  {
   "cell_type": "code",
   "execution_count": 28,
   "id": "8d94e0fc",
   "metadata": {},
   "outputs": [],
   "source": [
    "product_product_tag_cloting_df=product_product_tag_cloting_df.join(collection_category_tag_cloud,collection_category_tag_cloud.tag_id==product_product_tag_cloting_df.tag_id,'left')"
   ]
  },
  {
   "cell_type": "code",
   "execution_count": 29,
   "id": "91dcf718",
   "metadata": {},
   "outputs": [
    {
     "name": "stdout",
     "output_type": "stream",
     "text": [
      "+---+----------+------+---+---+----------------+-------------------+----------+-------------------+----------+----+--------------------+----------------+------+\n",
      "|_c0|product_id|tag_id|_c0| id|        tag_name|         updated_at|updated_by|         created_at|created_by|  id|                name|        tag_name|tag_id|\n",
      "+---+----------+------+---+---+----------------+-------------------+----------+-------------------+----------+----+--------------------+----------------+------+\n",
      "| 42|         4|   153|119|153|         cropped|2020-08-18 17:39:23|       2.0|2020-07-13 06:14:53|         0|  45|Jackets, Coats & ...|         cropped|   153|\n",
      "| 42|         4|   153|119|153|         cropped|2020-08-18 17:39:23|       2.0|2020-07-13 06:14:53|         0|  49|       Jeans & Denim|         cropped|   153|\n",
      "| 42|         4|   153|119|153|         cropped|2020-08-18 17:39:23|       2.0|2020-07-13 06:14:53|         0|  54|               Pants|         cropped|   153|\n",
      "| 42|         4|   153|119|153|         cropped|2020-08-18 17:39:23|       2.0|2020-07-13 06:14:53|         0|  58|    Sweaters & Knits|         cropped|   153|\n",
      "| 42|         4|   153|119|153|         cropped|2020-08-18 17:39:23|       2.0|2020-07-13 06:14:53|         0|  61|                Tops|         cropped|   153|\n",
      "| 42|         4|   153|119|153|         cropped|2020-08-18 17:39:23|       2.0|2020-07-13 06:14:53|         0| 145|             Cropped|         cropped|   153|\n",
      "| 42|         4|   153|119|153|         cropped|2020-08-18 17:39:23|       2.0|2020-07-13 06:14:53|         0| 178|             Cropped|         cropped|   153|\n",
      "| 42|         4|   153|119|153|         cropped|2020-08-18 17:39:23|       2.0|2020-07-13 06:14:53|         0| 211|             Cropped|         cropped|   153|\n",
      "| 42|         4|   153|119|153|         cropped|2020-08-18 17:39:23|       2.0|2020-07-13 06:14:53|         0| 236|             Cropped|         cropped|   153|\n",
      "|  4|         1|   164|128|164|          skinny|2023-08-22 12:30:05|       6.0|2020-07-13 06:18:05|         0|  49|       Jeans & Denim|          skinny|   164|\n",
      "|  4|         1|   164|128|164|          skinny|2023-08-22 12:30:05|       6.0|2020-07-13 06:18:05|         0|  54|               Pants|          skinny|   164|\n",
      "|  4|         1|   164|128|164|          skinny|2023-08-22 12:30:05|       6.0|2020-07-13 06:18:05|         0| 156|              Skinny|          skinny|   164|\n",
      "|  4|         1|   164|128|164|          skinny|2023-08-22 12:30:05|       6.0|2020-07-13 06:18:05|         0| 186|              Skinny|          skinny|   164|\n",
      "|  5|         1|   194|153|194|           pants|2023-08-22 06:55:09|       6.0|2020-07-13 06:45:10|         0|  54|               Pants|           pants|   194|\n",
      "|  5|         1|   194|153|194|           pants|2023-08-22 06:55:09|       6.0|2020-07-13 06:45:10|         0|  77|               Pants|           pants|   194|\n",
      "|  5|         1|   194|153|194|           pants|2023-08-22 06:55:09|       6.0|2020-07-13 06:45:10|         0| 171|               Pants|           pants|   194|\n",
      "|  5|         1|   194|153|194|           pants|2023-08-22 06:55:09|       6.0|2020-07-13 06:45:10|         0|1051|               Pants|           pants|   194|\n",
      "|  6|         1|   197|156|197|tailored-bottoms|2020-07-23 08:18:10|       6.0|2020-07-13 06:51:10|         0|  54|               Pants|tailored-bottoms|   197|\n",
      "|  6|         1|   197|156|197|tailored-bottoms|2020-07-23 08:18:10|       6.0|2020-07-13 06:51:10|         0| 189|            Tailored|tailored-bottoms|   197|\n",
      "|  0|         1|     2|  0|  2|        clothing|2020-07-23 06:12:51|       6.0|2020-07-02 13:51:13|         0|  68|            Clothing|        clothing|     2|\n",
      "+---+----------+------+---+---+----------------+-------------------+----------+-------------------+----------+----+--------------------+----------------+------+\n",
      "only showing top 20 rows\n",
      "\n"
     ]
    }
   ],
   "source": [
    "product_product_tag_cloting_df.show()"
   ]
  }
 ],
 "metadata": {
  "kernelspec": {
   "display_name": "RS",
   "language": "python",
   "name": "python3"
  },
  "language_info": {
   "codemirror_mode": {
    "name": "ipython",
    "version": 3
   },
   "file_extension": ".py",
   "mimetype": "text/x-python",
   "name": "python",
   "nbconvert_exporter": "python",
   "pygments_lexer": "ipython3",
   "version": "3.11.5"
  }
 },
 "nbformat": 4,
 "nbformat_minor": 5
}
