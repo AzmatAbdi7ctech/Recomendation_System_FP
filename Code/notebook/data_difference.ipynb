{
 "cells": [
  {
   "cell_type": "code",
   "execution_count": 26,
   "id": "6bbb4369",
   "metadata": {},
   "outputs": [],
   "source": [
    "from pyspark.context import SparkContext\n",
    "from pyspark import SparkConf,sql\n",
    "from pyspark.sql.session import SparkSession\n",
    "import findspark\n",
    "import pymysql\n",
    "import pymysql.cursors\n",
    "import pandas as pd\n",
    "from pyspark.sql.functions import *"
   ]
  },
  {
   "cell_type": "code",
   "execution_count": 2,
   "id": "c80c2f16",
   "metadata": {},
   "outputs": [],
   "source": [
    "product_path='D:/PROJECTS/Recomendation_System_FP/Code/Database/product.csv'\n",
    "cosin_result_path1='D:/PROJECTS/Recomendation_System_FP/Code/cosin_similarity_registry/cosin_similarity.csv'\n"
   ]
  },
  {
   "cell_type": "code",
   "execution_count": 3,
   "id": "d856acc2",
   "metadata": {},
   "outputs": [],
   "source": [
    "spark = SparkSession.builder \\\n",
    "    .appName(\"PySpark MySQL Example\") \\\n",
    "    .config(\"spark.driver.extraClassPath\", \"C:/spark/spark-3.5.0-bin-hadoop3/jars/mysql-connector-java-5.1.46.jar\") \\\n",
    "    .getOrCreate()\n",
    "\n"
   ]
  },
  {
   "cell_type": "code",
   "execution_count": 4,
   "id": "3f45dc2e",
   "metadata": {},
   "outputs": [],
   "source": [
    "Product_df=spark.read.format('csv').option('header',True) \\\n",
    ".load(product_path)\n",
    "\n",
    "cosin_result_path_df1=spark.read.format('csv').option('header',True) \\\n",
    ".load(cosin_result_path1)\n",
    "\n"
   ]
  },
  {
   "cell_type": "code",
   "execution_count": 22,
   "id": "32bc4985",
   "metadata": {},
   "outputs": [],
   "source": [
    "cosin_date=Product_df.join(cosin_result_path_df1,cosin_result_path_df1.original_product==Product_df.product_id,'inner')\n",
    "cosin_date=cosin_date.withColumnRenamed('published_at','reference_date').select(['original_product','matched_product','reference_date','cosin_score'])\n",
    "cosin_date=cosin_date.join(Product_df,Product_df.product_id==cosin_date.matched_product,'inner').select(['original_product','matched_product','reference_date','cosin_score','published_at'])"
   ]
  },
  {
   "cell_type": "code",
   "execution_count": 27,
   "id": "a635cde0",
   "metadata": {},
   "outputs": [
    {
     "name": "stdout",
     "output_type": "stream",
     "text": [
      "+----------------+---------------+-------------------+-----------+-------------------+\n",
      "|original_product|matched_product|     reference_date|cosin_score|       published_at|\n",
      "+----------------+---------------+-------------------+-----------+-------------------+\n",
      "|            4821|           4894|2021-10-04 18:56:21|      0.979|2021-10-21 12:56:20|\n",
      "|            4821|           7650|2021-10-04 18:56:21|      0.914|2023-06-27 08:10:35|\n",
      "|            4821|           3266|2021-10-04 18:56:21|      0.974|2019-11-26 00:00:00|\n",
      "|            4821|           5234|2021-10-04 18:56:21|       0.97|2022-01-19 10:38:35|\n",
      "|            4821|           5408|2021-10-04 18:56:21|      0.902|2022-03-18 09:54:57|\n",
      "|            4821|           8279|2021-10-04 18:56:21|      0.952|2023-10-10 07:27:36|\n",
      "|            4821|           2644|2021-10-04 18:56:21|      0.846|2019-06-27 21:05:20|\n",
      "|            4821|           4417|2021-10-04 18:56:21|      0.869|2021-06-13 12:18:17|\n",
      "|            4821|           4690|2021-10-04 18:56:21|       0.92|2021-09-02 09:24:07|\n",
      "|            4821|           3848|2021-10-04 18:56:21|       0.81|2020-11-14 00:00:00|\n",
      "|            4821|           5543|2021-10-04 18:56:21|      0.865|2022-05-04 10:52:45|\n",
      "|            4821|           4980|2021-10-04 18:56:21|      0.822|2022-01-20 08:50:37|\n",
      "|            4821|           4934|2021-10-04 18:56:21|      0.807|2021-11-23 09:08:56|\n",
      "|            4821|           7539|2021-10-04 18:56:21|      0.964|2023-07-02 08:01:34|\n",
      "|            4821|           7689|2021-10-04 18:56:21|      0.965|2023-07-03 08:20:48|\n",
      "|            4821|           2605|2021-10-04 18:56:21|      0.921|2019-06-18 00:00:00|\n",
      "|            4821|           5412|2021-10-04 18:56:21|      0.955|2022-03-24 12:53:52|\n",
      "|            4821|           3570|2021-10-04 18:56:21|      0.953|2020-02-25 00:00:00|\n",
      "|            4821|           6423|2021-10-04 18:56:21|      0.808|2022-10-26 22:01:29|\n",
      "|            4821|           5352|2021-10-04 18:56:21|      0.901|2022-04-11 14:42:00|\n",
      "+----------------+---------------+-------------------+-----------+-------------------+\n",
      "only showing top 20 rows\n",
      "\n"
     ]
    }
   ],
   "source": [
    "cosin_date.show()"
   ]
  },
  {
   "cell_type": "code",
   "execution_count": 39,
   "id": "0f9a26ef",
   "metadata": {},
   "outputs": [],
   "source": [
    "from pyspark.sql.functions import datediff,to_date,col"
   ]
  },
  {
   "cell_type": "code",
   "execution_count": 33,
   "id": "04e9995b",
   "metadata": {},
   "outputs": [],
   "source": [
    "cosin_date=cosin_date.withColumn('datediff',datediff(to_date('reference_date'),to_date('published_at')))"
   ]
  },
  {
   "cell_type": "code",
   "execution_count": 42,
   "id": "be991108",
   "metadata": {},
   "outputs": [],
   "source": [
    "cosin_date=cosin_date.withColumn('cosin_score_2',col('cosin_score')*col('datediff'))"
   ]
  },
  {
   "cell_type": "code",
   "execution_count": 43,
   "id": "778b0ebc",
   "metadata": {},
   "outputs": [
    {
     "name": "stdout",
     "output_type": "stream",
     "text": [
      "+----------------+---------------+-------------------+-----------+-------------------+--------+-------------------+\n",
      "|original_product|matched_product|     reference_date|cosin_score|       published_at|datediff|      cosin_score_2|\n",
      "+----------------+---------------+-------------------+-----------+-------------------+--------+-------------------+\n",
      "|            4821|           4894|2021-10-04 18:56:21|      0.979|2021-10-21 12:56:20|     -17|            -16.643|\n",
      "|            4821|           7650|2021-10-04 18:56:21|      0.914|2023-06-27 08:10:35|    -631|           -576.734|\n",
      "|            4821|           3266|2021-10-04 18:56:21|      0.974|2019-11-26 00:00:00|     678|            660.372|\n",
      "|            4821|           5234|2021-10-04 18:56:21|       0.97|2022-01-19 10:38:35|    -107|-103.78999999999999|\n",
      "|            4821|           5408|2021-10-04 18:56:21|      0.902|2022-03-18 09:54:57|    -165|            -148.83|\n",
      "|            4821|           8279|2021-10-04 18:56:21|      0.952|2023-10-10 07:27:36|    -736|           -700.672|\n",
      "|            4821|           2644|2021-10-04 18:56:21|      0.846|2019-06-27 21:05:20|     830|             702.18|\n",
      "|            4821|           4417|2021-10-04 18:56:21|      0.869|2021-06-13 12:18:17|     113|             98.197|\n",
      "|            4821|           4690|2021-10-04 18:56:21|       0.92|2021-09-02 09:24:07|      32|              29.44|\n",
      "|            4821|           3848|2021-10-04 18:56:21|       0.81|2020-11-14 00:00:00|     324|             262.44|\n",
      "|            4821|           5543|2021-10-04 18:56:21|      0.865|2022-05-04 10:52:45|    -212|            -183.38|\n",
      "|            4821|           4980|2021-10-04 18:56:21|      0.822|2022-01-20 08:50:37|    -108|            -88.776|\n",
      "|            4821|           4934|2021-10-04 18:56:21|      0.807|2021-11-23 09:08:56|     -50|             -40.35|\n",
      "|            4821|           7539|2021-10-04 18:56:21|      0.964|2023-07-02 08:01:34|    -636| -613.1039999999999|\n",
      "|            4821|           7689|2021-10-04 18:56:21|      0.965|2023-07-03 08:20:48|    -637| -614.7049999999999|\n",
      "|            4821|           2605|2021-10-04 18:56:21|      0.921|2019-06-18 00:00:00|     839|            772.719|\n",
      "|            4821|           5412|2021-10-04 18:56:21|      0.955|2022-03-24 12:53:52|    -171|           -163.305|\n",
      "|            4821|           3570|2021-10-04 18:56:21|      0.953|2020-02-25 00:00:00|     587|            559.411|\n",
      "|            4821|           6423|2021-10-04 18:56:21|      0.808|2022-10-26 22:01:29|    -387|           -312.696|\n",
      "|            4821|           5352|2021-10-04 18:56:21|      0.901|2022-04-11 14:42:00|    -189|-170.28900000000002|\n",
      "+----------------+---------------+-------------------+-----------+-------------------+--------+-------------------+\n",
      "only showing top 20 rows\n",
      "\n"
     ]
    }
   ],
   "source": [
    "cosin_date.show()"
   ]
  },
  {
   "cell_type": "code",
   "execution_count": 77,
   "id": "b31b5b84",
   "metadata": {},
   "outputs": [],
   "source": [
    "# cosin_date=cosin_date.toPandas()"
   ]
  },
  {
   "cell_type": "code",
   "execution_count": 78,
   "id": "de30b49c",
   "metadata": {},
   "outputs": [],
   "source": [
    "# cosin_date.to_csv('cosin_similarity_data_diff.csv')"
   ]
  },
  {
   "cell_type": "code",
   "execution_count": 44,
   "id": "afc9f64b",
   "metadata": {},
   "outputs": [],
   "source": [
    "cosin_result_path_df4=cosin_date"
   ]
  },
  {
   "cell_type": "code",
   "execution_count": 72,
   "id": "68307a1a",
   "metadata": {},
   "outputs": [
    {
     "name": "stdout",
     "output_type": "stream",
     "text": [
      "+----------------+---------------+-------------------+-----------+-------------------+--------+------------------+\n",
      "|original_product|matched_product|     reference_date|cosin_score|       published_at|datediff|     cosin_score_2|\n",
      "+----------------+---------------+-------------------+-----------+-------------------+--------+------------------+\n",
      "|            5174|           8628|2022-01-03 11:04:54|       0.94|2024-01-09 08:30:16|    -736|-691.8399999999999|\n",
      "|            5174|           8510|2022-01-03 11:04:54|        1.0|2023-11-17 14:26:57|    -683|            -683.0|\n",
      "|            5174|           8441|2022-01-03 11:04:54|      0.917|2024-01-15 08:33:40|    -742|          -680.414|\n",
      "|            5174|           8612|2022-01-03 11:04:54|      0.908|2024-01-16 08:22:18|    -743|          -674.644|\n",
      "|            5174|           8452|2022-01-03 11:04:54|      0.966|2023-11-21 13:55:11|    -687|-663.6419999999999|\n",
      "|            5174|           8381|2022-01-03 11:04:54|      0.952|2023-11-10 15:18:25|    -676|          -643.552|\n",
      "|            5174|           8399|2022-01-03 11:04:54|      0.931|2023-11-20 16:22:18|    -686|          -638.666|\n",
      "|            5174|           8065|2022-01-03 11:04:54|      0.908|2023-12-06 14:32:27|    -702|          -637.416|\n",
      "|            5174|           8382|2022-01-03 11:04:54|      0.915|2023-11-20 08:04:46|    -686|           -627.69|\n",
      "|            5174|           8458|2022-01-03 11:04:54|      0.908|2023-11-10 15:20:23|    -676|          -613.808|\n",
      "|            5174|           8327|2022-01-03 11:04:54|      0.899|2023-11-06 08:12:38|    -672|          -604.128|\n",
      "|            5174|           8488|2022-01-03 11:04:54|      0.883|2023-11-15 08:08:25|    -681|          -601.323|\n",
      "|            5174|           8281|2022-01-03 11:04:54|      0.917|2023-10-17 08:19:44|    -652|          -597.884|\n",
      "|            5174|           8294|2022-01-03 11:04:54|      0.906|2023-10-23 08:06:37|    -658|          -596.148|\n",
      "|            5174|           7859|2022-01-03 11:04:54|       0.98|2023-08-22 08:05:56|    -596|           -584.08|\n",
      "|            5174|           7840|2022-01-03 11:04:54|      0.988|2023-08-16 17:38:07|    -590|           -582.92|\n",
      "|            5174|           8384|2022-01-03 11:04:54|      0.852|2023-11-14 08:08:49|    -680|           -579.36|\n",
      "|            5174|           7973|2022-01-03 11:04:54|      0.931|2023-09-17 07:26:59|    -622|          -579.082|\n",
      "|            5174|           8373|2022-01-03 11:04:54|      0.869|2023-10-27 16:28:55|    -662|          -575.278|\n",
      "|            5174|           8249|2022-01-03 11:04:54|      0.868|2023-10-26 10:48:41|    -661|          -573.748|\n",
      "+----------------+---------------+-------------------+-----------+-------------------+--------+------------------+\n",
      "only showing top 20 rows\n",
      "\n"
     ]
    }
   ],
   "source": [
    "product_title='BLAIR OFF SHOULDER SWEATER'\n",
    "selected_product_id=Product_df.filter(Product_df['product_title']==product_title).select('product_id').collect()[0][0]\n",
    "recomendation_df_product=cosin_result_path_df4[cosin_result_path_df4['original_product']==selected_product_id]\n",
    "recomendation_df_product=recomendation_df_product.sort(col('cosin_score_2').asc())\n",
    "recomendation_df_product.show()\n"
   ]
  },
  {
   "cell_type": "code",
   "execution_count": 74,
   "id": "f2d0dbbf",
   "metadata": {},
   "outputs": [
    {
     "name": "stdout",
     "output_type": "stream",
     "text": [
      "5174\n",
      "8628,8510,8441,8612,8452,8381,8399,8065,8382,8458,8327,8488,8281,8294,7859,7840,8384,7973,8373,8249,8340,7951,8146,8445,8459,7858,8210,7857,7374,7330,7127,6674,6706,6671,6702,6058,6404,6365,6235,5594,5409,5147,5153,5108,5176\n"
     ]
    }
   ],
   "source": [
    "link=[]\n",
    "print(selected_product_id)\n",
    "for row in recomendation_df_product.collect():\n",
    "    if float(row['cosin_score_2']) < 1 :\n",
    "        id=row['matched_product']\n",
    "        datediff=row['datediff']\n",
    "        score=row['cosin_score']\n",
    "        # link.append(int(id))\n",
    "        product_thumbnail=Product_df.filter(Product_df.product_id==id).select('product_thumbnail').collect()\n",
    "        try:\n",
    "            # print('https://fashionpass.s3.us-west-1.amazonaws.com/products/'+(product_thumbnail[0][0]))\n",
    "            link.append(id)\n",
    "        except:\n",
    "            print('valid string')    \n",
    "print(','.join(link))"
   ]
  },
  {
   "cell_type": "code",
   "execution_count": 59,
   "id": "3d842d63",
   "metadata": {},
   "outputs": [
    {
     "name": "stdout",
     "output_type": "stream",
     "text": [
      "3939,4407,7137,8167,2668,6832,8202,4815,8245,7534,8570,2006,5441,4286,7811,5091,2459,7998,5194,5943,8477,2591,5602,5032,6224,6845,8552,7641,3962,8081,1976,4627,2687,5860,3963,2844,8331,3323,7141,3623,8476,4811,4900,7733,8753,4946,7960,4285,8097,7804,7726,5172,7844,7803,1951,4331,4311,7725,3769,4810,1231,2328,7308,5940,8143,5382,8250,7661,6798,5410,5938,6283,8080,3961,6223,6678,2177,7826,4962,4108,4406,2254,8051,8637,6890,3192,7148,3217,5423,7602,8752,5381,8550,8750,3564,8664,4927,7997,5438,4143,8254,7535,4625,5736,180,4102,1531,316,6432,1450,5201,5719,5741,6975,6231,7619,5939,8316,8076,2549,8075,3759,5424,5422,5368,3878,5405,5288,5611,859,6225,6073,3440,1952,3423,5404,5369,5182,4963,7140,7986,2332,4978,7876,4210,7800,6540,4287,3205,3575,7802,7796,1949,5279,1614,7938,5089,8754,3385,557,8475,2001,915,6421,5858,6610,3749,3725,5281,8487,5126,5171,4145,2399,7172,7660,2707,5185,7943,8751,2114,2029,5131,6265,278,6115,3396,8054,8867,8400,4409,3422,8068,7124,8523,6397,6880,8660,1251\n"
     ]
    }
   ],
   "source": [
    "selected_product_id=Product_df.filter(Product_df['product_title']==product_title).select('product_id').collect()[0][0]\n",
    "recomendation_df_product=cosin_result_path_df2[cosin_result_path_df2['Product_A']==selected_product_id]\n",
    "link=[]\n",
    "for row in recomendation_df_product.collect():\n",
    "    if float(row['cosin_score'])>=.80:\n",
    "        id=row['Product_B']\n",
    "        # link.append(int(id))\n",
    "        # product_thumbnail=Product_df.filter(Product_df.product_id==id).select('product_thumbnail').collect()\n",
    "        try:\n",
    "            # print('https://fashionpass.s3.us-west-1.amazonaws.com/products/'+(product_thumbnail[0][0]))\n",
    "             link.append(id)\n",
    "        except:\n",
    "            print('valid string')    \n",
    "print(','.join(link))"
   ]
  },
  {
   "cell_type": "code",
   "execution_count": 8,
   "id": "5356ac60",
   "metadata": {},
   "outputs": [
    {
     "name": "stdout",
     "output_type": "stream",
     "text": [
      "5444,2324,2940,7779,1668,7630,1200,2747,604,104,3599,978,3713,5342,7675,5973,3921,1557,7555,7874,8112,4763,1790,645,5506,1237,1301,1105,1078,8033,3473,7253,3538,1348,1201,8405,1028,7599,1714,1068,5446,7748,1206,1523,7276,5749,8403,1558,7870,8155,4188,7557,7608,281,461,741,1080,350,114,2897,540,759,8192,4958,1597,8032,7965,1768,3598,8102,490,24,7558,757,3356,8141,7744,5391,1778,289,8156,5448,7443,5447,8132,7254,1848,2924,8231,776,3596,3675,5670,8404,7783,3514,49,1661,4425,7610,7265,1242,2320,4181,4254,3710,7871,1233,1029,4251,1553,7206,4486,1350,1273,66,8191,8232,760,2730,8230,8401,5389,8506,7216,1699,6718,1781,2704,3594,5390,7264,8111,2746,3601,2732,5953,4316,145,2076,8188,6137,881,1779,2317,119,8128,8190,1329,8189\n"
     ]
    }
   ],
   "source": [
    "selected_product_id=Product_df.filter(Product_df['product_title']==product_title).select('product_id').collect()[0][0]\n",
    "recomendation_df_product=cosin_result_path_df3[cosin_result_path_df3['Product_A']==selected_product_id]\n",
    "link=[]\n",
    "for row in recomendation_df_product.collect():\n",
    "    if float(row['cosin_score'])>=.80:\n",
    "        id=row['Product_B']\n",
    "        # link.append(int(id))\n",
    "        # product_thumbnail=Product_df.filter(Product_df.product_id==id).select('product_thumbnail').collect()\n",
    "        try:\n",
    "            # print('https://fashionpass.s3.us-west-1.amazonaws.com/products/'+(product_thumbnail[0][0]))\n",
    "             link.append(id)\n",
    "        except:\n",
    "            print('valid string')    \n",
    "print(','.join(link))"
   ]
  },
  {
   "cell_type": "code",
   "execution_count": 7,
   "id": "3baf6e1a",
   "metadata": {},
   "outputs": [],
   "source": [
    "import pandas as pd\n",
    "cs1=pd.read_csv(cosin_result_path3)#configur.get('cosin_similarity_base_path','cs1'))#load_csv(spark_session,file_path=configur.get('cosin_similarity_base_path','cs1'))\n",
    "cs2=pd.read_csv(cosin_result_path2)#configur.get('cosin_similarity_base_path','cs2'))#load_csv(spark=spark_session,file_path=configur.get('cosin_similarity_base_path','cs2'))\n",
    "cs3=pd.read_csv(cosin_result_path1)"
   ]
  },
  {
   "cell_type": "code",
   "execution_count": 50,
   "id": "b6031e7f",
   "metadata": {},
   "outputs": [
    {
     "data": {
      "text/plain": [
       "'6878'"
      ]
     },
     "execution_count": 50,
     "metadata": {},
     "output_type": "execute_result"
    }
   ],
   "source": [
    "product_title='X CAMELIA FARHOODI THE LEILA CHOKER'\n",
    "selected_product_id=[Product_df.filter(Product_df['product_title']==product_title).select('product_id').collect()[0][0]]\n",
    "(selected_product_id[0])"
   ]
  },
  {
   "cell_type": "code",
   "execution_count": 12,
   "id": "fbad1351",
   "metadata": {},
   "outputs": [
    {
     "name": "stdout",
     "output_type": "stream",
     "text": [
      "total number of product 1\n",
      "7955\n",
      "top re []\n",
      "0\n"
     ]
    }
   ],
   "source": [
    "# from Code.utils.libraries import * \n",
    "# from Code.data.dataprocessing.load.load import *\n",
    "# from Code.data.dataprocessing.transform.transform import *\n",
    "# from sessions import *\n",
    "# from pyspark.sql.functions import date_format\n",
    "# from Code.models.model_training.model import *\n",
    "\n",
    "\n",
    "# BASE_PATH=os.getenv('BASEPATH')\n",
    "# CONN_URL = os.getenv('CONN_URL')\n",
    "# PASSWORD = os.getenv('PASSWORD')\n",
    "# USERNAME=os.getenv('USER_NAME')\n",
    "# configur = ConfigParser() \n",
    "# configur.read(BASE_PATH+'config.ini')\n",
    "#spark_session=session(configur.get('driver_path_pyspark','pyspark'))\n",
    "#configur.get('cosin_similarity_base_path','cs3'))#Sload_csv(spark=spark_session,file_path=configur.get('cosin_similarity_base_path','cs3'))\n",
    "\n",
    "cosin_df=[]\n",
    "product_title='SIENA TOP'\n",
    "product_ids=[Product_df.filter(Product_df['product_title']==product_title).select('product_id').collect()[0][0]]#[(Product_df.filter(Product_df['product_title']==product_title).select('product_id').collect()[0][0])]#cs1.Product_A.unique()#[id[0] for id in cs1.select('Product_A').distinct().collect()]  in pyspark [8692,2178,8687,1087,3069]\n",
    "print(\"total number of product\",len(product_ids))\n",
    "# st = time.time()\n",
    "\n",
    "for r in product_ids:\n",
    "    r=int(r)\n",
    "    print(r)\n",
    "    cs1_product_b=[]\n",
    "    cs2_product_b=[]\n",
    "    cs3_product_b=[]\n",
    "\n",
    "    cs1_product_b=cs1[(cs1['Product_A']==r) & (cs1['cosin_score']>=.80)]['Product_B'].unique().tolist()  #[ product[0] for product in cs1.filter((cs1['Product_A']==r) & (cs1['cosin_score']>=.80))['Product_B'].unique()]\n",
    "    cs2_product_b=cs2[(cs2['Product_A']==r) & (cs2['cosin_score']>=.85)]['Product_B'].unique().tolist()#values\n",
    "    cs3_product_b=cs3[(cs3['Product_A']==r) & (cs3['cosin_score']>=.90)]['Product_B'].unique().tolist()#values\n",
    "    # cs2temp=cs2.filter((cs2['Product_A']==r) & (cs2['cosin_score']>=.85))\n",
    "    # cs3temp=cs3.filter((cs3['Product_A']==r) & (cs3['cosin_score']>=.90))\n",
    "    # print(cs1_product_b)\n",
    "    # print(cs2_product_b)\n",
    "    # print(cs3_product_b)\n",
    "\n",
    "    # for row in  cs1temp.collect():\n",
    "    #     if float(row['cosin_score'])>=.80:\n",
    "    #         cs1_product_b.append(row['Product_B'])\n",
    "        \n",
    "    # for row2 in cs2temp.collect():\n",
    "    #     if float(row2['cosin_score'])>=.85:\n",
    "    #         cs1_product_b.append(row2['Product_B'])\n",
    "    #         # cs2_product_b.append(row2['Product_B'])\n",
    "    # for row3 in cs3temp.collect():\n",
    "    #     if float(row3['cosin_score'])>=.90 :\n",
    "    #         cs1_product_b.append(row3['Product_B'])\n",
    "                # cs3_product_b.append(row3['Product_B'])\n",
    "\n",
    "#print(cs1_product_b,cs2_product_b,cs3_product_b)\n",
    "    for id in cs2_product_b:\n",
    "        cs1_product_b.append(id)\n",
    "    for id in cs3_product_b:\n",
    "        cs1_product_b.append(id)\n",
    "    # final_list=cs1_product_b+cs2_product_b+cs3_product_b\n",
    "    my_dict = {i:cs1_product_b.count(i) for i in cs1_product_b}\n",
    "    # print(my_dict)\n",
    "    top_recomendation=[]\n",
    "    for key,value in my_dict.items():\n",
    "        if value >=3:\n",
    "            top_recomendation.append(key)\n",
    "    print('top re',top_recomendation)\n",
    "    cosin_df.append(cs1[(cs1['Product_A']==r) & (cs1['Product_B'].isin(top_recomendation))])\n",
    "    # cosin_df.append(cs1.filter((cs1['Product_A']==r) & (cs1['Product_B'].isin(top_recomendation))))  # in pandas\n",
    "\n",
    "df=cosin_df[0]\n",
    "print(len(cosin_df[1:]))\n",
    "for i in cosin_df[1:]:\n",
    "    #  try:\n",
    "         #df=df.union(i) #in pyspark\n",
    "         df=df._append(i,ignore_index = True) #in pandas\n",
    "    #  except:\n",
    "    #      print('out of index')\n",
    "#df.toPandas().to_csv('cosin_simmilarity1.csv')\n",
    "# et = time.time()\n",
    "# print(f'Execution time:{et-st} seconds')\n",
    "# df.to_csv('cosin_simmilarity2.csv')\n",
    "\n",
    "\n",
    "\n",
    "\n"
   ]
  }
 ],
 "metadata": {
  "kernelspec": {
   "display_name": "RS",
   "language": "python",
   "name": "python3"
  },
  "language_info": {
   "codemirror_mode": {
    "name": "ipython",
    "version": 3
   },
   "file_extension": ".py",
   "mimetype": "text/x-python",
   "name": "python",
   "nbconvert_exporter": "python",
   "pygments_lexer": "ipython3",
   "version": "3.11.5"
  }
 },
 "nbformat": 4,
 "nbformat_minor": 5
}
